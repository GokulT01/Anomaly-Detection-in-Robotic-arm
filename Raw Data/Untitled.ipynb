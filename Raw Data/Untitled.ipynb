{
 "cells": [
  {
   "cell_type": "code",
   "execution_count": 1,
   "id": "ade0bd04-1cbf-45a1-8382-09a16e805f69",
   "metadata": {},
   "outputs": [
    {
     "name": "stdout",
     "output_type": "stream",
     "text": [
      "✅ Cleaned dataset saved as 'cleaned_robot_data.csv'\n",
      "🗑️ Removed columns saved to 'removed_columns.txt'\n"
     ]
    }
   ],
   "source": [
    "import pandas as pd\n",
    "\n",
    "# 1. List of 9 CSV files (update with actual filenames)\n",
    "csv_files = [\n",
    "    'Train1.csv', 'Train2.csv', 'Train3.csv',\n",
    "    'Train4.csv', 'Train5.csv', 'Train6.csv',\n",
    "    'Train7.csv', 'Train8.csv', 'Train9.csv'\n",
    "]\n",
    "\n",
    "# 2. Full header\n",
    "columns = [\n",
    "    \"ROBOT_TIME\",\n",
    "    *[\"ROBOT_TARGET_JOINT_POSITIONS (J{})\".format(i) for i in range(1, 7)],\n",
    "    *[\"ROBOT_ACTUAL_JOINT_POSITIONS (J{})\".format(i) for i in range(1, 7)],\n",
    "    *[\"ROBOT_TARGET_JOINT_VELOCITIES (J{})\".format(i) for i in range(1, 7)],\n",
    "    *[\"ROBOT_ACTUAL_JOINT_VELOCITIES (J{})\".format(i) for i in range(1, 7)],\n",
    "    *[\"ROBOT_TARGET_JOITN_CURRENT (J{})\".format(i) for i in range(1, 7)],\n",
    "    *[\"ROBOT_ACTUAL_JOINT_CURRENT (J{})\".format(i) for i in range(1, 7)],\n",
    "    *[\"ROBOT_TARGET_JOINT_ACCELERATIONS (J{})\".format(i) for i in range(1, 7)],\n",
    "    *[\"ROBOT_TARGET_JOINT_TORQUES (J{})\".format(i) for i in range(1, 7)],\n",
    "    *[\"ROBOT_JOINT_CONTROL_CURRENT (J{})\".format(i) for i in range(1, 7)],\n",
    "    *[\"ROBOT_CARTESIAN_COORD_TOOL ({})\".format(axis) for axis in ['x', 'y', 'z', 'rx', 'ry', 'rz']],\n",
    "    *[\"ROBOT_TCP_FORCE ({})\".format(axis) for axis in ['x', 'y', 'z', 'rx', 'ry', 'rz']],\n",
    "    *[\"ROBOT_JOINT_TEMP (J{})\".format(i) for i in range(1, 7)]\n",
    "]\n",
    "\n",
    "# 3. Read and merge all files\n",
    "df_list = []\n",
    "for file in csv_files:\n",
    "    df = pd.read_csv(file, header=None)\n",
    "    df.columns = columns\n",
    "    df_list.append(df)\n",
    "\n",
    "merged_df = pd.concat(df_list, ignore_index=True)\n",
    "\n",
    "# 4. Remove unwanted columns (Cartesian and TCP force)\n",
    "drop_columns = [col for col in merged_df.columns if 'CARTESIAN_COORD_TOOL' in col or 'TCP_FORCE' in col]\n",
    "cleaned_df = merged_df.drop(columns=drop_columns)\n",
    "\n",
    "# 5. Save final cleaned dataset\n",
    "cleaned_df.to_csv('robot_data.csv', index=False)\n",
    "\n",
    "# 6. Optionally, save list of removed columns\n",
    "with open('removed_columns.txt', 'w') as f:\n",
    "    for col in drop_columns:\n",
    "        f.write(col + '\\n')\n",
    "\n",
    "print(\"✅ Cleaned dataset saved as 'cleaned_robot_data.csv'\")\n",
    "print(\"🗑️ Removed columns saved to 'removed_columns.txt'\")\n"
   ]
  },
  {
   "cell_type": "code",
   "execution_count": null,
   "id": "bd7c7722-3b8a-4c86-885c-61a0664af4e4",
   "metadata": {},
   "outputs": [],
   "source": []
  }
 ],
 "metadata": {
  "kernelspec": {
   "display_name": "Python 3 (ipykernel)",
   "language": "python",
   "name": "python3"
  },
  "language_info": {
   "codemirror_mode": {
    "name": "ipython",
    "version": 3
   },
   "file_extension": ".py",
   "mimetype": "text/x-python",
   "name": "python",
   "nbconvert_exporter": "python",
   "pygments_lexer": "ipython3",
   "version": "3.12.6"
  }
 },
 "nbformat": 4,
 "nbformat_minor": 5
}
