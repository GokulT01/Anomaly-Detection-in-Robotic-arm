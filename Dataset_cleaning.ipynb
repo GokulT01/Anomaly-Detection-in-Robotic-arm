{
 "cells": [
  {
   "cell_type": "code",
   "execution_count": null,
   "id": "b43fd2e5-59eb-4bea-8d5b-9e8d9032e87c",
   "metadata": {},
   "outputs": [],
   "source": [
    "import pandas as pd\n",
    "import numpy as np\n",
    "import re\n",
    "\n",
    "# ---------- 1. Load dataset ----------\n",
    "# Replace with your actual file path\n",
    "file_path = \"robot_data.csv\"\n",
    "df = pd.read_csv(file_path)\n",
    "\n",
    "\n",
    "# ---------- 2. Handle mixed types & symbolic artifacts ----------\n",
    "def clean_numeric(value):\n",
    "    \"\"\"Remove unwanted characters and convert to float if possible.\"\"\"\n",
    "    if pd.isna(value):\n",
    "        return np.nan\n",
    "    cleaned = re.sub(r'[^0-9.\\-]', '', str(value))  # keep only digits, . and -\n",
    "    try:\n",
    "        return float(cleaned)\n",
    "    except ValueError:\n",
    "        return np.nan\n",
    "\n",
    "# Apply cleaning to all relevant feature columns\n",
    "# (adjust these to match your dataset columns)\n",
    "feature_cols = [col for col in df.columns if \"JOINT\" in col or \"POSITION\" in col or \"VELOCITY\" in col or \"CURRENT\" in col]\n",
    "\n",
    "for col in feature_cols:\n",
    "    df[col] = df[col].apply(clean_numeric)\n",
    "\n",
    "print(\"\\nAfter cleaning symbols and casting to float.\")\n",
    "print(df[feature_cols].head())\n",
    "\n",
    "# ---------- 3. Handle missing values ----------\n",
    "# Short gaps (1–2 steps): forward fill\n",
    "df[feature_cols] = df[feature_cols].ffill(limit=2)\n",
    "\n",
    "# Wider gaps: linear interpolation\n",
    "df[feature_cols] = df[feature_cols].interpolate(method=\"linear\")\n",
    "\n",
    "# Drop rows with too many missing values across joints\n",
    "df = df.dropna(thresh=len(feature_cols) - 1, axis=0)\n",
    "\n",
    "print(\"\\nAfter handling missing values.\")\n",
    "print(df[feature_cols].head())\n",
    "\n",
    "# ---------- 4. Integrity check ----------\n",
    "non_numeric_cols = [col for col in feature_cols if not pd.api.types.is_numeric_dtype(df[col])]\n",
    "if non_numeric_cols:\n",
    "    print(f\" Warning: Non-numeric values remain in {non_numeric_cols}\")\n",
    "else:\n",
    "    print(\" All feature columns are now numeric and consistent.\")\n",
    "\n",
    "# ---------- 5. Save cleaned dataset ----------\n",
    "cleaned_file = \"robot_data_cleaned.csv\"\n",
    "df.to_csv(cleaned_file, index=False)\n",
    "print(f\"\\nCleaned dataset saved to {cleaned_file}\")"
   ]
  }
 ],
 "metadata": {
  "kernelspec": {
   "display_name": "Python 3 (ipykernel)",
   "language": "python",
   "name": "python3"
  },
  "language_info": {
   "codemirror_mode": {
    "name": "ipython",
    "version": 3
   },
   "file_extension": ".py",
   "mimetype": "text/x-python",
   "name": "python",
   "nbconvert_exporter": "python",
   "pygments_lexer": "ipython3",
   "version": "3.12.6"
  }
 },
 "nbformat": 4,
 "nbformat_minor": 5
}
